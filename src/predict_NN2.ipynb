{
 "cells": [
  {
   "cell_type": "code",
   "execution_count": 40,
   "metadata": {},
   "outputs": [],
   "source": [
    "import math\n",
    "import numpy as np\n",
    "import pandas as pd\n",
    "import tensorflow as tf\n",
    "import matplotlib.pyplot as plt\n",
    "from tensorflow.keras import Model\n",
    "from tensorflow.keras import Sequential\n",
    "from tensorflow.keras.optimizers import Adam\n",
    "from sklearn.preprocessing import StandardScaler, MinMaxScaler\n",
    "from tensorflow.keras.layers import Dense, Dropout\n",
    "from sklearn.model_selection import train_test_split\n",
    "from tensorflow.keras.losses import MeanSquaredLogarithmicError\n",
    "\n",
    "from sklearn.metrics import r2_score"
   ]
  },
  {
   "cell_type": "code",
   "execution_count": 2,
   "metadata": {},
   "outputs": [],
   "source": [
    "dpath = '../data/'\n",
    "df = pd.read_csv(dpath + 'pipeline_output.csv')\n",
    "target_name = \"KWH\"\n",
    "\n",
    "train_data, test_data = train_test_split(df, test_size=0.3)\n",
    "X_train, y_train = train_data.drop(target_name, axis=1), train_data[target_name]\n",
    "X_test, y_test = test_data.drop(target_name, axis=1), test_data[target_name]"
   ]
  },
  {
   "cell_type": "code",
   "execution_count": 3,
   "metadata": {},
   "outputs": [],
   "source": [
    "def scale_datasets(X_train, X_test):\n",
    "    \"\"\"\n",
    "    Standard Scale test and train data\n",
    "    Z - Score normalization\n",
    "    \"\"\"\n",
    "    sc = StandardScaler()\n",
    "\n",
    "    X_train_scaled = pd.DataFrame(sc.fit_transform(X_train),\n",
    "                                columns = X_train.columns)\n",
    "\n",
    "    X_test_scaled = pd.DataFrame(sc.transform(X_test),\n",
    "                                columns = X_test.columns)\n",
    "                                \n",
    "    return X_train_scaled, X_test_scaled\n",
    "\n",
    "X_train_scaled, X_test_scaled = scale_datasets(X_train, X_test)"
   ]
  },
  {
   "cell_type": "code",
   "execution_count": 5,
   "metadata": {},
   "outputs": [
    {
     "ename": "ValueError",
     "evalue": "Expected 2D array, got 1D array instead:\narray=[14313.  7539. 19092. ...  2279.  6229.  6981.].\nReshape your data either using array.reshape(-1, 1) if your data has a single feature or array.reshape(1, -1) if it contains a single sample.",
     "output_type": "error",
     "traceback": [
      "\u001b[0;31m---------------------------------------------------------------------------\u001b[0m",
      "\u001b[0;31mValueError\u001b[0m                                Traceback (most recent call last)",
      "\u001b[0;32m/var/folders/1y/mgqdtfcd6b93sswh9nfnjfz40000gn/T/ipykernel_77372/2936064598.py\u001b[0m in \u001b[0;36m<module>\u001b[0;34m\u001b[0m\n\u001b[1;32m     13\u001b[0m     \u001b[0;32mreturn\u001b[0m \u001b[0my_train_scaled\u001b[0m\u001b[0;34m,\u001b[0m \u001b[0my_test_scaled\u001b[0m\u001b[0;34m\u001b[0m\u001b[0;34m\u001b[0m\u001b[0m\n\u001b[1;32m     14\u001b[0m \u001b[0;34m\u001b[0m\u001b[0m\n\u001b[0;32m---> 15\u001b[0;31m \u001b[0my_train_scaled\u001b[0m\u001b[0;34m,\u001b[0m \u001b[0my_test_scaled\u001b[0m \u001b[0;34m=\u001b[0m \u001b[0mscale_datasets\u001b[0m\u001b[0;34m(\u001b[0m\u001b[0my_train\u001b[0m\u001b[0;34m,\u001b[0m \u001b[0my_test\u001b[0m\u001b[0;34m)\u001b[0m\u001b[0;34m\u001b[0m\u001b[0;34m\u001b[0m\u001b[0m\n\u001b[0m",
      "\u001b[0;32m/var/folders/1y/mgqdtfcd6b93sswh9nfnjfz40000gn/T/ipykernel_77372/3950775620.py\u001b[0m in \u001b[0;36mscale_datasets\u001b[0;34m(X_train, X_test)\u001b[0m\n\u001b[1;32m      6\u001b[0m     \u001b[0msc\u001b[0m \u001b[0;34m=\u001b[0m \u001b[0mStandardScaler\u001b[0m\u001b[0;34m(\u001b[0m\u001b[0;34m)\u001b[0m\u001b[0;34m\u001b[0m\u001b[0;34m\u001b[0m\u001b[0m\n\u001b[1;32m      7\u001b[0m \u001b[0;34m\u001b[0m\u001b[0m\n\u001b[0;32m----> 8\u001b[0;31m     X_train_scaled = pd.DataFrame(sc.fit_transform(X_train),\n\u001b[0m\u001b[1;32m      9\u001b[0m                                 columns = X_train.columns)\n\u001b[1;32m     10\u001b[0m \u001b[0;34m\u001b[0m\u001b[0m\n",
      "\u001b[0;32m~/miniconda3/envs/tensorflow/lib/python3.9/site-packages/sklearn/base.py\u001b[0m in \u001b[0;36mfit_transform\u001b[0;34m(self, X, y, **fit_params)\u001b[0m\n\u001b[1;32m    850\u001b[0m         \u001b[0;32mif\u001b[0m \u001b[0my\u001b[0m \u001b[0;32mis\u001b[0m \u001b[0;32mNone\u001b[0m\u001b[0;34m:\u001b[0m\u001b[0;34m\u001b[0m\u001b[0;34m\u001b[0m\u001b[0m\n\u001b[1;32m    851\u001b[0m             \u001b[0;31m# fit method of arity 1 (unsupervised transformation)\u001b[0m\u001b[0;34m\u001b[0m\u001b[0;34m\u001b[0m\u001b[0m\n\u001b[0;32m--> 852\u001b[0;31m             \u001b[0;32mreturn\u001b[0m \u001b[0mself\u001b[0m\u001b[0;34m.\u001b[0m\u001b[0mfit\u001b[0m\u001b[0;34m(\u001b[0m\u001b[0mX\u001b[0m\u001b[0;34m,\u001b[0m \u001b[0;34m**\u001b[0m\u001b[0mfit_params\u001b[0m\u001b[0;34m)\u001b[0m\u001b[0;34m.\u001b[0m\u001b[0mtransform\u001b[0m\u001b[0;34m(\u001b[0m\u001b[0mX\u001b[0m\u001b[0;34m)\u001b[0m\u001b[0;34m\u001b[0m\u001b[0;34m\u001b[0m\u001b[0m\n\u001b[0m\u001b[1;32m    853\u001b[0m         \u001b[0;32melse\u001b[0m\u001b[0;34m:\u001b[0m\u001b[0;34m\u001b[0m\u001b[0;34m\u001b[0m\u001b[0m\n\u001b[1;32m    854\u001b[0m             \u001b[0;31m# fit method of arity 2 (supervised transformation)\u001b[0m\u001b[0;34m\u001b[0m\u001b[0;34m\u001b[0m\u001b[0m\n",
      "\u001b[0;32m~/miniconda3/envs/tensorflow/lib/python3.9/site-packages/sklearn/preprocessing/_data.py\u001b[0m in \u001b[0;36mfit\u001b[0;34m(self, X, y, sample_weight)\u001b[0m\n\u001b[1;32m    804\u001b[0m         \u001b[0;31m# Reset internal state before fitting\u001b[0m\u001b[0;34m\u001b[0m\u001b[0;34m\u001b[0m\u001b[0m\n\u001b[1;32m    805\u001b[0m         \u001b[0mself\u001b[0m\u001b[0;34m.\u001b[0m\u001b[0m_reset\u001b[0m\u001b[0;34m(\u001b[0m\u001b[0;34m)\u001b[0m\u001b[0;34m\u001b[0m\u001b[0;34m\u001b[0m\u001b[0m\n\u001b[0;32m--> 806\u001b[0;31m         \u001b[0;32mreturn\u001b[0m \u001b[0mself\u001b[0m\u001b[0;34m.\u001b[0m\u001b[0mpartial_fit\u001b[0m\u001b[0;34m(\u001b[0m\u001b[0mX\u001b[0m\u001b[0;34m,\u001b[0m \u001b[0my\u001b[0m\u001b[0;34m,\u001b[0m \u001b[0msample_weight\u001b[0m\u001b[0;34m)\u001b[0m\u001b[0;34m\u001b[0m\u001b[0;34m\u001b[0m\u001b[0m\n\u001b[0m\u001b[1;32m    807\u001b[0m \u001b[0;34m\u001b[0m\u001b[0m\n\u001b[1;32m    808\u001b[0m     \u001b[0;32mdef\u001b[0m \u001b[0mpartial_fit\u001b[0m\u001b[0;34m(\u001b[0m\u001b[0mself\u001b[0m\u001b[0;34m,\u001b[0m \u001b[0mX\u001b[0m\u001b[0;34m,\u001b[0m \u001b[0my\u001b[0m\u001b[0;34m=\u001b[0m\u001b[0;32mNone\u001b[0m\u001b[0;34m,\u001b[0m \u001b[0msample_weight\u001b[0m\u001b[0;34m=\u001b[0m\u001b[0;32mNone\u001b[0m\u001b[0;34m)\u001b[0m\u001b[0;34m:\u001b[0m\u001b[0;34m\u001b[0m\u001b[0;34m\u001b[0m\u001b[0m\n",
      "\u001b[0;32m~/miniconda3/envs/tensorflow/lib/python3.9/site-packages/sklearn/preprocessing/_data.py\u001b[0m in \u001b[0;36mpartial_fit\u001b[0;34m(self, X, y, sample_weight)\u001b[0m\n\u001b[1;32m    839\u001b[0m         \"\"\"\n\u001b[1;32m    840\u001b[0m         \u001b[0mfirst_call\u001b[0m \u001b[0;34m=\u001b[0m \u001b[0;32mnot\u001b[0m \u001b[0mhasattr\u001b[0m\u001b[0;34m(\u001b[0m\u001b[0mself\u001b[0m\u001b[0;34m,\u001b[0m \u001b[0;34m\"n_samples_seen_\"\u001b[0m\u001b[0;34m)\u001b[0m\u001b[0;34m\u001b[0m\u001b[0;34m\u001b[0m\u001b[0m\n\u001b[0;32m--> 841\u001b[0;31m         X = self._validate_data(\n\u001b[0m\u001b[1;32m    842\u001b[0m             \u001b[0mX\u001b[0m\u001b[0;34m,\u001b[0m\u001b[0;34m\u001b[0m\u001b[0;34m\u001b[0m\u001b[0m\n\u001b[1;32m    843\u001b[0m             \u001b[0maccept_sparse\u001b[0m\u001b[0;34m=\u001b[0m\u001b[0;34m(\u001b[0m\u001b[0;34m\"csr\"\u001b[0m\u001b[0;34m,\u001b[0m \u001b[0;34m\"csc\"\u001b[0m\u001b[0;34m)\u001b[0m\u001b[0;34m,\u001b[0m\u001b[0;34m\u001b[0m\u001b[0;34m\u001b[0m\u001b[0m\n",
      "\u001b[0;32m~/miniconda3/envs/tensorflow/lib/python3.9/site-packages/sklearn/base.py\u001b[0m in \u001b[0;36m_validate_data\u001b[0;34m(self, X, y, reset, validate_separately, **check_params)\u001b[0m\n\u001b[1;32m    564\u001b[0m             \u001b[0;32mraise\u001b[0m \u001b[0mValueError\u001b[0m\u001b[0;34m(\u001b[0m\u001b[0;34m\"Validation should be done on X, y or both.\"\u001b[0m\u001b[0;34m)\u001b[0m\u001b[0;34m\u001b[0m\u001b[0;34m\u001b[0m\u001b[0m\n\u001b[1;32m    565\u001b[0m         \u001b[0;32melif\u001b[0m \u001b[0;32mnot\u001b[0m \u001b[0mno_val_X\u001b[0m \u001b[0;32mand\u001b[0m \u001b[0mno_val_y\u001b[0m\u001b[0;34m:\u001b[0m\u001b[0;34m\u001b[0m\u001b[0;34m\u001b[0m\u001b[0m\n\u001b[0;32m--> 566\u001b[0;31m             \u001b[0mX\u001b[0m \u001b[0;34m=\u001b[0m \u001b[0mcheck_array\u001b[0m\u001b[0;34m(\u001b[0m\u001b[0mX\u001b[0m\u001b[0;34m,\u001b[0m \u001b[0;34m**\u001b[0m\u001b[0mcheck_params\u001b[0m\u001b[0;34m)\u001b[0m\u001b[0;34m\u001b[0m\u001b[0;34m\u001b[0m\u001b[0m\n\u001b[0m\u001b[1;32m    567\u001b[0m             \u001b[0mout\u001b[0m \u001b[0;34m=\u001b[0m \u001b[0mX\u001b[0m\u001b[0;34m\u001b[0m\u001b[0;34m\u001b[0m\u001b[0m\n\u001b[1;32m    568\u001b[0m         \u001b[0;32melif\u001b[0m \u001b[0mno_val_X\u001b[0m \u001b[0;32mand\u001b[0m \u001b[0;32mnot\u001b[0m \u001b[0mno_val_y\u001b[0m\u001b[0;34m:\u001b[0m\u001b[0;34m\u001b[0m\u001b[0;34m\u001b[0m\u001b[0m\n",
      "\u001b[0;32m~/miniconda3/envs/tensorflow/lib/python3.9/site-packages/sklearn/utils/validation.py\u001b[0m in \u001b[0;36mcheck_array\u001b[0;34m(array, accept_sparse, accept_large_sparse, dtype, order, copy, force_all_finite, ensure_2d, allow_nd, ensure_min_samples, ensure_min_features, estimator)\u001b[0m\n\u001b[1;32m    767\u001b[0m             \u001b[0;31m# If input is 1D raise error\u001b[0m\u001b[0;34m\u001b[0m\u001b[0;34m\u001b[0m\u001b[0m\n\u001b[1;32m    768\u001b[0m             \u001b[0;32mif\u001b[0m \u001b[0marray\u001b[0m\u001b[0;34m.\u001b[0m\u001b[0mndim\u001b[0m \u001b[0;34m==\u001b[0m \u001b[0;36m1\u001b[0m\u001b[0;34m:\u001b[0m\u001b[0;34m\u001b[0m\u001b[0;34m\u001b[0m\u001b[0m\n\u001b[0;32m--> 769\u001b[0;31m                 raise ValueError(\n\u001b[0m\u001b[1;32m    770\u001b[0m                     \u001b[0;34m\"Expected 2D array, got 1D array instead:\\narray={}.\\n\"\u001b[0m\u001b[0;34m\u001b[0m\u001b[0;34m\u001b[0m\u001b[0m\n\u001b[1;32m    771\u001b[0m                     \u001b[0;34m\"Reshape your data either using array.reshape(-1, 1) if \"\u001b[0m\u001b[0;34m\u001b[0m\u001b[0;34m\u001b[0m\u001b[0m\n",
      "\u001b[0;31mValueError\u001b[0m: Expected 2D array, got 1D array instead:\narray=[14313.  7539. 19092. ...  2279.  6229.  6981.].\nReshape your data either using array.reshape(-1, 1) if your data has a single feature or array.reshape(1, -1) if it contains a single sample."
     ]
    }
   ],
   "source": [
    "def scale_target(y_train, y_test):\n",
    "    \"\"\"\n",
    "    Scale target variable for prediction\n",
    "    \"\"\"\n",
    "    sc = StandardScaler()\n",
    "\n",
    "    y_train_scaled = pd.DataFrame(sc.fit_transform(y_train),\n",
    "                                columns = y_train.columns)\n",
    "\n",
    "    y_test_scaled = pd.DataFrame(sc.transform(y_test),\n",
    "                                columns = y_test.columns)\n",
    "                                \n",
    "    return y_train_scaled, y_test_scaled\n",
    "\n",
    "y_train_scaled, y_test_scaled = scale_datasets(y_train, y_test)"
   ]
  },
  {
   "cell_type": "code",
   "execution_count": 7,
   "metadata": {},
   "outputs": [],
   "source": [
    "dfy_train = pd.DataFrame(y_train)\n",
    "dfy_test = pd.DataFrame(y_test)\n",
    "\n",
    "target_scaler = MinMaxScaler()\n",
    "target_scaler.fit(dfy_train)\n",
    "\n",
    "y_train_scaled = target_scaler.transform(dfy_train)\n",
    "y_test_scaled = target_scaler.transform(dfy_test)\n",
    "# it worked \n"
   ]
  },
  {
   "cell_type": "code",
   "execution_count": 11,
   "metadata": {},
   "outputs": [
    {
     "name": "stdout",
     "output_type": "stream",
     "text": [
      "(3625, 485)\n",
      "(3625,)\n",
      "(3625, 1)\n",
      "(8458, 485)\n",
      "(8458,)\n",
      "(8458, 1)\n"
     ]
    }
   ],
   "source": [
    "print(X_test_scaled.shape)\n",
    "print(y_test.shape)\n",
    "print(y_test_scaled.shape)\n",
    "\n",
    "print(X_train_scaled.shape)\n",
    "print(y_train.shape)\n",
    "print(y_train_scaled.shape)"
   ]
  },
  {
   "cell_type": "code",
   "execution_count": 12,
   "metadata": {},
   "outputs": [
    {
     "name": "stderr",
     "output_type": "stream",
     "text": [
      "2022-08-03 10:23:31.665872: I tensorflow/core/platform/cpu_feature_guard.cc:142] This TensorFlow binary is optimized with oneAPI Deep Neural Network Library (oneDNN) to use the following CPU instructions in performance-critical operations:  AVX2 FMA\n",
      "To enable them in other operations, rebuild TensorFlow with the appropriate compiler flags.\n"
     ]
    }
   ],
   "source": [
    "hidden_units1 = 160\n",
    "hidden_units2 = 480\n",
    "hidden_units3 = 256\n",
    "learning_rate = 0.01\n",
    "\n",
    "# Creating model using the Sequential in tensorflow\n",
    "def build_model_using_sequential():\n",
    "  model = Sequential([\n",
    "    Dense(hidden_units1, kernel_initializer='normal', activation='relu'),\n",
    "    Dropout(0.2),\n",
    "    Dense(hidden_units2, kernel_initializer='normal', activation='relu'),\n",
    "    Dropout(0.2),\n",
    "    Dense(hidden_units3, kernel_initializer='normal', activation='relu'),\n",
    "    Dense(1, kernel_initializer='normal', activation='linear')\n",
    "  ])\n",
    "  return model\n",
    "  \n",
    "# build the model\n",
    "model = build_model_using_sequential()\n",
    "\n",
    "# loss function\n",
    "msle = MeanSquaredLogarithmicError()\n",
    "model.compile(\n",
    "    loss=msle, \n",
    "    optimizer=Adam(learning_rate=learning_rate), \n",
    "    metrics=[msle])"
   ]
  },
  {
   "cell_type": "code",
   "execution_count": 13,
   "metadata": {},
   "outputs": [
    {
     "name": "stderr",
     "output_type": "stream",
     "text": [
      "2022-08-03 10:23:52.124985: I tensorflow/compiler/mlir/mlir_graph_optimization_pass.cc:176] None of the MLIR Optimization Passes are enabled (registered 2)\n"
     ]
    },
    {
     "name": "stdout",
     "output_type": "stream",
     "text": [
      "Epoch 1/30\n",
      "133/133 [==============================] - 1s 6ms/step - loss: 1.1393 - mean_squared_logarithmic_error: 1.1329 - val_loss: 0.1372 - val_mean_squared_logarithmic_error: 0.1371\n",
      "Epoch 2/30\n",
      "133/133 [==============================] - 1s 4ms/step - loss: 0.1404 - mean_squared_logarithmic_error: 0.1400 - val_loss: 0.1141 - val_mean_squared_logarithmic_error: 0.1141\n",
      "Epoch 3/30\n",
      "133/133 [==============================] - 1s 4ms/step - loss: 0.1293 - mean_squared_logarithmic_error: 0.1295 - val_loss: 0.1058 - val_mean_squared_logarithmic_error: 0.1057\n",
      "Epoch 4/30\n",
      "133/133 [==============================] - 1s 4ms/step - loss: 0.1179 - mean_squared_logarithmic_error: 0.1177 - val_loss: 0.0998 - val_mean_squared_logarithmic_error: 0.0998\n",
      "Epoch 5/30\n",
      "133/133 [==============================] - 1s 5ms/step - loss: 0.1108 - mean_squared_logarithmic_error: 0.1105 - val_loss: 0.0949 - val_mean_squared_logarithmic_error: 0.0950\n",
      "Epoch 6/30\n",
      "133/133 [==============================] - 1s 5ms/step - loss: 0.1129 - mean_squared_logarithmic_error: 0.1125 - val_loss: 0.1003 - val_mean_squared_logarithmic_error: 0.1002\n",
      "Epoch 7/30\n",
      "133/133 [==============================] - 1s 5ms/step - loss: 0.1089 - mean_squared_logarithmic_error: 0.1086 - val_loss: 0.1095 - val_mean_squared_logarithmic_error: 0.1094\n",
      "Epoch 8/30\n",
      "133/133 [==============================] - 1s 5ms/step - loss: 0.1027 - mean_squared_logarithmic_error: 0.1026 - val_loss: 0.1362 - val_mean_squared_logarithmic_error: 0.1361\n",
      "Epoch 9/30\n",
      "133/133 [==============================] - 1s 5ms/step - loss: 0.1045 - mean_squared_logarithmic_error: 0.1050 - val_loss: 0.0858 - val_mean_squared_logarithmic_error: 0.0858\n",
      "Epoch 10/30\n",
      "133/133 [==============================] - 1s 5ms/step - loss: 0.1037 - mean_squared_logarithmic_error: 0.1032 - val_loss: 0.0893 - val_mean_squared_logarithmic_error: 0.0893\n",
      "Epoch 11/30\n",
      "133/133 [==============================] - 1s 7ms/step - loss: 0.0982 - mean_squared_logarithmic_error: 0.0980 - val_loss: 0.1137 - val_mean_squared_logarithmic_error: 0.1136\n",
      "Epoch 12/30\n",
      "133/133 [==============================] - 1s 6ms/step - loss: 0.0933 - mean_squared_logarithmic_error: 0.0932 - val_loss: 0.0883 - val_mean_squared_logarithmic_error: 0.0882\n",
      "Epoch 13/30\n",
      "133/133 [==============================] - 1s 5ms/step - loss: 0.0981 - mean_squared_logarithmic_error: 0.0982 - val_loss: 0.1069 - val_mean_squared_logarithmic_error: 0.1069\n",
      "Epoch 14/30\n",
      "133/133 [==============================] - 1s 6ms/step - loss: 0.0928 - mean_squared_logarithmic_error: 0.0934 - val_loss: 0.1011 - val_mean_squared_logarithmic_error: 0.1011\n",
      "Epoch 15/30\n",
      "133/133 [==============================] - 1s 6ms/step - loss: 0.0899 - mean_squared_logarithmic_error: 0.0897 - val_loss: 0.0937 - val_mean_squared_logarithmic_error: 0.0937\n",
      "Epoch 16/30\n",
      "133/133 [==============================] - 1s 6ms/step - loss: 0.0930 - mean_squared_logarithmic_error: 0.0925 - val_loss: 0.1105 - val_mean_squared_logarithmic_error: 0.1105\n",
      "Epoch 17/30\n",
      "133/133 [==============================] - 1s 6ms/step - loss: 0.0901 - mean_squared_logarithmic_error: 0.0903 - val_loss: 0.0798 - val_mean_squared_logarithmic_error: 0.0798\n",
      "Epoch 18/30\n",
      "133/133 [==============================] - 1s 6ms/step - loss: 0.0874 - mean_squared_logarithmic_error: 0.0870 - val_loss: 0.1129 - val_mean_squared_logarithmic_error: 0.1129\n",
      "Epoch 19/30\n",
      "133/133 [==============================] - 1s 7ms/step - loss: 0.0862 - mean_squared_logarithmic_error: 0.0865 - val_loss: 0.0993 - val_mean_squared_logarithmic_error: 0.0993\n",
      "Epoch 20/30\n",
      "133/133 [==============================] - 1s 7ms/step - loss: 0.0867 - mean_squared_logarithmic_error: 0.0864 - val_loss: 0.1533 - val_mean_squared_logarithmic_error: 0.1533\n",
      "Epoch 21/30\n",
      "133/133 [==============================] - 1s 8ms/step - loss: 0.0861 - mean_squared_logarithmic_error: 0.0862 - val_loss: 0.1538 - val_mean_squared_logarithmic_error: 0.1537\n",
      "Epoch 22/30\n",
      "133/133 [==============================] - 1s 7ms/step - loss: 0.0962 - mean_squared_logarithmic_error: 0.0960 - val_loss: 0.1422 - val_mean_squared_logarithmic_error: 0.1423\n",
      "Epoch 23/30\n",
      "133/133 [==============================] - 1s 8ms/step - loss: 0.0869 - mean_squared_logarithmic_error: 0.0869 - val_loss: 0.1332 - val_mean_squared_logarithmic_error: 0.1332\n",
      "Epoch 24/30\n",
      "133/133 [==============================] - 1s 7ms/step - loss: 0.0820 - mean_squared_logarithmic_error: 0.0826 - val_loss: 0.0844 - val_mean_squared_logarithmic_error: 0.0844\n",
      "Epoch 25/30\n",
      "133/133 [==============================] - 1s 8ms/step - loss: 0.0894 - mean_squared_logarithmic_error: 0.0899 - val_loss: 0.1343 - val_mean_squared_logarithmic_error: 0.1344\n",
      "Epoch 26/30\n",
      "133/133 [==============================] - 1s 8ms/step - loss: 0.0825 - mean_squared_logarithmic_error: 0.0824 - val_loss: 0.0859 - val_mean_squared_logarithmic_error: 0.0859\n",
      "Epoch 27/30\n",
      "133/133 [==============================] - 1s 8ms/step - loss: 0.0803 - mean_squared_logarithmic_error: 0.0801 - val_loss: 0.0902 - val_mean_squared_logarithmic_error: 0.0901\n",
      "Epoch 28/30\n",
      "133/133 [==============================] - 1s 8ms/step - loss: 0.0838 - mean_squared_logarithmic_error: 0.0835 - val_loss: 0.1106 - val_mean_squared_logarithmic_error: 0.1106\n",
      "Epoch 29/30\n",
      "133/133 [==============================] - 1s 8ms/step - loss: 0.0843 - mean_squared_logarithmic_error: 0.0842 - val_loss: 0.1239 - val_mean_squared_logarithmic_error: 0.1239\n",
      "Epoch 30/30\n",
      "133/133 [==============================] - 1s 7ms/step - loss: 0.0795 - mean_squared_logarithmic_error: 0.0794 - val_loss: 0.1001 - val_mean_squared_logarithmic_error: 0.1000\n"
     ]
    }
   ],
   "source": [
    "callback = tf.keras.callbacks.EarlyStopping(monitor='loss', patience=5)\n",
    "\n",
    "history = model.fit(X_train.values, y_train.values,\n",
    "                    epochs=30,\n",
    "                    verbose=1,\n",
    "                    validation_data=(X_test.values, y_test.values),\n",
    "                    batch_size=64,\n",
    "                    callbacks=[callback]\n",
    "                    )\n",
    "\n"
   ]
  },
  {
   "cell_type": "code",
   "execution_count": 14,
   "metadata": {},
   "outputs": [
    {
     "data": {
      "image/png": "[encoded data removed]",
      "text/plain": [
       "<Figure size 864x360 with 2 Axes>"
      ]
     },
     "metadata": {},
     "output_type": "display_data"
    }
   ],
   "source": [
    "plt.style.use('ggplot')\n",
    "\n",
    "def plot_history(history):\n",
    "    msle = history.history['mean_squared_logarithmic_error']\n",
    "    val_msle = history.history['val_mean_squared_logarithmic_error']\n",
    "    loss = history.history['loss']\n",
    "    val_loss = history.history['val_loss']\n",
    "    x = range(1, len(msle) + 1)\n",
    "\n",
    "    plt.figure(figsize=(12, 5))\n",
    "    plt.subplot(1, 2, 1)\n",
    "    plt.plot(x, msle, 'b', label='Training MSLE')\n",
    "    plt.plot(x, val_msle, 'r', label='Validation MSLE')\n",
    "    plt.title('Training and validation MSLE')\n",
    "    plt.legend()\n",
    "    plt.subplot(1, 2, 2)\n",
    "    plt.plot(x, loss, 'b', label='Training loss')\n",
    "    plt.plot(x, val_loss, 'r', label='Validation loss')\n",
    "    plt.title('Training and validation loss')\n",
    "    plt.legend()\n",
    "\n",
    "plot_history(history)"
   ]
  },
  {
   "cell_type": "code",
   "execution_count": 42,
   "metadata": {},
   "outputs": [
    {
     "name": "stdout",
     "output_type": "stream",
     "text": [
      "<class 'pandas.core.series.Series'>\n",
      "<class 'numpy.ndarray'>\n"
     ]
    },
    {
     "data": {
      "text/plain": [
       "0.7762177516318842"
      ]
     },
     "execution_count": 42,
     "metadata": {},
     "output_type": "execute_result"
    }
   ],
   "source": [
    "#prediect no scaling\n",
    "prediction = model.predict(X_test)\n",
    "print(type(y_test))\n",
    "print(type(prediction))\n",
    "\n",
    "pred_frame = pd.DataFrame(y_test.copy())\n",
    "pred_frame['prediction'] = prediction\n",
    "pred_frame\n",
    "\n",
    "r2_score(y_test, prediction)"
   ]
  },
  {
   "cell_type": "code",
   "execution_count": 44,
   "metadata": {},
   "outputs": [
    {
     "name": "stdout",
     "output_type": "stream",
     "text": [
      "<class 'numpy.ndarray'>\n",
      "<class 'numpy.ndarray'>\n"
     ]
    },
    {
     "data": {
      "text/html": [
       "<div>\n",
       "<style scoped>\n",
       "    .dataframe tbody tr th:only-of-type {\n",
       "        vertical-align: middle;\n",
       "    }\n",
       "\n",
       "    .dataframe tbody tr th {\n",
       "        vertical-align: top;\n",
       "    }\n",
       "\n",
       "    .dataframe thead th {\n",
       "        text-align: right;\n",
       "    }\n",
       "</style>\n",
       "<table border=\"1\" class=\"dataframe\">\n",
       "  <thead>\n",
       "    <tr style=\"text-align: right;\">\n",
       "      <th></th>\n",
       "      <th>0</th>\n",
       "      <th>prediction</th>\n",
       "    </tr>\n",
       "  </thead>\n",
       "  <tbody>\n",
       "    <tr>\n",
       "      <th>0</th>\n",
       "      <td>0.092387</td>\n",
       "      <td>381.869659</td>\n",
       "    </tr>\n",
       "    <tr>\n",
       "      <th>1</th>\n",
       "      <td>0.033900</td>\n",
       "      <td>37.785530</td>\n",
       "    </tr>\n",
       "    <tr>\n",
       "      <th>2</th>\n",
       "      <td>0.048810</td>\n",
       "      <td>104.506500</td>\n",
       "    </tr>\n",
       "    <tr>\n",
       "      <th>3</th>\n",
       "      <td>0.025746</td>\n",
       "      <td>33.449596</td>\n",
       "    </tr>\n",
       "    <tr>\n",
       "      <th>4</th>\n",
       "      <td>0.033181</td>\n",
       "      <td>529.927734</td>\n",
       "    </tr>\n",
       "    <tr>\n",
       "      <th>...</th>\n",
       "      <td>...</td>\n",
       "      <td>...</td>\n",
       "    </tr>\n",
       "    <tr>\n",
       "      <th>3620</th>\n",
       "      <td>0.014504</td>\n",
       "      <td>45.817677</td>\n",
       "    </tr>\n",
       "    <tr>\n",
       "      <th>3621</th>\n",
       "      <td>0.050913</td>\n",
       "      <td>76.755653</td>\n",
       "    </tr>\n",
       "    <tr>\n",
       "      <th>3622</th>\n",
       "      <td>0.103403</td>\n",
       "      <td>849.047791</td>\n",
       "    </tr>\n",
       "    <tr>\n",
       "      <th>3623</th>\n",
       "      <td>0.130540</td>\n",
       "      <td>973.939880</td>\n",
       "    </tr>\n",
       "    <tr>\n",
       "      <th>3624</th>\n",
       "      <td>0.068598</td>\n",
       "      <td>31.804581</td>\n",
       "    </tr>\n",
       "  </tbody>\n",
       "</table>\n",
       "<p>3625 rows × 2 columns</p>\n",
       "</div>"
      ],
      "text/plain": [
       "             0  prediction\n",
       "0     0.092387  381.869659\n",
       "1     0.033900   37.785530\n",
       "2     0.048810  104.506500\n",
       "3     0.025746   33.449596\n",
       "4     0.033181  529.927734\n",
       "...        ...         ...\n",
       "3620  0.014504   45.817677\n",
       "3621  0.050913   76.755653\n",
       "3622  0.103403  849.047791\n",
       "3623  0.130540  973.939880\n",
       "3624  0.068598   31.804581\n",
       "\n",
       "[3625 rows x 2 columns]"
      ]
     },
     "execution_count": 44,
     "metadata": {},
     "output_type": "execute_result"
    }
   ],
   "source": [
    "#prediect w scaling\n",
    "prediction = model.predict(X_test_scaled)\n",
    "print(type(y_test_scaled))\n",
    "print(type(prediction))\n",
    "\n",
    "pred_frame = pd.DataFrame(y_test_scaled.copy())\n",
    "pred_frame['prediction'] = prediction\n",
    "pred_frame\n",
    "\n",
    "#r2_score(y_test, prediction)"
   ]
  },
  {
   "cell_type": "code",
   "execution_count": null,
   "metadata": {},
   "outputs": [],
   "source": []
  },
  {
   "cell_type": "code",
   "execution_count": 82,
   "metadata": {},
   "outputs": [
    {
     "ename": "ValueError",
     "evalue": "non-broadcastable output operand with shape (3625,1) doesn't match the broadcast shape (3625,485)",
     "output_type": "error",
     "traceback": [
      "\u001b[0;31m---------------------------------------------------------------------------\u001b[0m",
      "\u001b[0;31mValueError\u001b[0m                                Traceback (most recent call last)",
      "\u001b[0;32m/var/folders/1y/mgqdtfcd6b93sswh9nfnjfz40000gn/T/ipykernel_76695/3421516741.py\u001b[0m in \u001b[0;36m<module>\u001b[0;34m\u001b[0m\n\u001b[0;32m----> 1\u001b[0;31m \u001b[0msc\u001b[0m\u001b[0;34m.\u001b[0m\u001b[0minverse_transform\u001b[0m\u001b[0;34m(\u001b[0m\u001b[0mpredictions\u001b[0m\u001b[0;34m.\u001b[0m\u001b[0mreshape\u001b[0m\u001b[0;34m(\u001b[0m\u001b[0;34m-\u001b[0m\u001b[0;36m1\u001b[0m\u001b[0;34m,\u001b[0m\u001b[0;36m1\u001b[0m\u001b[0;34m)\u001b[0m\u001b[0;34m)\u001b[0m\u001b[0;34m.\u001b[0m\u001b[0mreshape\u001b[0m\u001b[0;34m(\u001b[0m\u001b[0;34m-\u001b[0m\u001b[0;36m1\u001b[0m\u001b[0;34m)\u001b[0m\u001b[0;34m\u001b[0m\u001b[0;34m\u001b[0m\u001b[0m\n\u001b[0m",
      "\u001b[0;32m~/miniconda3/envs/tensorflow/lib/python3.9/site-packages/sklearn/preprocessing/_data.py\u001b[0m in \u001b[0;36minverse_transform\u001b[0;34m(self, X, copy)\u001b[0m\n\u001b[1;32m   1033\u001b[0m         \u001b[0;32melse\u001b[0m\u001b[0;34m:\u001b[0m\u001b[0;34m\u001b[0m\u001b[0;34m\u001b[0m\u001b[0m\n\u001b[1;32m   1034\u001b[0m             \u001b[0;32mif\u001b[0m \u001b[0mself\u001b[0m\u001b[0;34m.\u001b[0m\u001b[0mwith_std\u001b[0m\u001b[0;34m:\u001b[0m\u001b[0;34m\u001b[0m\u001b[0;34m\u001b[0m\u001b[0m\n\u001b[0;32m-> 1035\u001b[0;31m                 \u001b[0mX\u001b[0m \u001b[0;34m*=\u001b[0m \u001b[0mself\u001b[0m\u001b[0;34m.\u001b[0m\u001b[0mscale_\u001b[0m\u001b[0;34m\u001b[0m\u001b[0;34m\u001b[0m\u001b[0m\n\u001b[0m\u001b[1;32m   1036\u001b[0m             \u001b[0;32mif\u001b[0m \u001b[0mself\u001b[0m\u001b[0;34m.\u001b[0m\u001b[0mwith_mean\u001b[0m\u001b[0;34m:\u001b[0m\u001b[0;34m\u001b[0m\u001b[0;34m\u001b[0m\u001b[0m\n\u001b[1;32m   1037\u001b[0m                 \u001b[0mX\u001b[0m \u001b[0;34m+=\u001b[0m \u001b[0mself\u001b[0m\u001b[0;34m.\u001b[0m\u001b[0mmean_\u001b[0m\u001b[0;34m\u001b[0m\u001b[0;34m\u001b[0m\u001b[0m\n",
      "\u001b[0;31mValueError\u001b[0m: non-broadcastable output operand with shape (3625,1) doesn't match the broadcast shape (3625,485)"
     ]
    }
   ],
   "source": [
    "sc.inverse_transform(predictions.reshape(-1,1)).reshape(-1)"
   ]
  },
  {
   "cell_type": "code",
   "execution_count": null,
   "metadata": {},
   "outputs": [],
   "source": [
    "predictions = scaler.inverse_transform(predictions.reshape(-1,1)).reshape(-1)"
   ]
  }
 ],
 "metadata": {
  "interpreter": {
   "hash": "c081362a3a14737b8e7ac760dd501fc03abdc191cfbb54f5d4fb70fb8f51b8b2"
  },
  "kernelspec": {
   "display_name": "Python 3.9.7 ('tensorflow')",
   "language": "python",
   "name": "python3"
  },
  "language_info": {
   "codemirror_mode": {
    "name": "ipython",
    "version": 3
   },
   "file_extension": ".py",
   "mimetype": "text/x-python",
   "name": "python",
   "nbconvert_exporter": "python",
   "pygments_lexer": "ipython3",
   "version": "3.9.7"
  },
  "orig_nbformat": 4
 },
 "nbformat": 4,
 "nbformat_minor": 2
}
