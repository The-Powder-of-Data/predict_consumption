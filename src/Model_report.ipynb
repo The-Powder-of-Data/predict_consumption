{
 "cells": [
  {
   "cell_type": "markdown",
   "metadata": {},
   "source": [
    "# **KWH Model Report**\n",
    "### ***Goal**: Build a model that predicts consumption*\n",
    "\n",
    "Showcase the following:\n",
    "\n",
    "1. Data Engineering\n",
    "2. Solution\n",
    "3. Problem methodology\n",
    "4. Code\n",
    "5. Analysis write-up"
   ]
  },
  {
   "cell_type": "markdown",
   "metadata": {},
   "source": [
    "## **Approach**:\n",
    "1. Explore and understand the dataset\n",
    "2. Data Engineering: Cleaning / Feature Engineering / Pipeline\n",
    "3. Baseline model (Linear Regression)\n",
    "4. Evaluate, adjust pipeline & test various models"
   ]
  },
  {
   "cell_type": "markdown",
   "metadata": {},
   "source": [
    "# **Findings:**\n",
    "\n"
   ]
  },
  {
   "cell_type": "markdown",
   "metadata": {},
   "source": [
    "## 1. **EDA**\n",
    "\n",
    "For this model we will be using the [2009 RESIDENTIAL ENERGY CONSUMPTION SURVEY (RECS) Survey Data](https://www.eia.gov/consumption/residential/data/2009/index.php?view=microdata). This is data collected by the U.S. Energy Information Administration. \n",
    "\n",
    "Data Tables:\n",
    "| File Name                      \t| Shape        \t| Description                                                   \t|\n",
    "|--------------------------------\t|--------------\t|---------------------------------------------------------------\t|\n",
    "| [recs2009_public.csv](https://www.eia.gov/consumption/residential/data/2009/csv/recs2009_public.csv)            \t| (12083, 940) \t| Sample represents 113.6 million U.S. households in 2009       \t|\n",
    "| [public_layout.csv](https://www.eia.gov/consumption/residential/data/2009/csv/public_layout.csv)              \t| (940, 5)     \t| Descriptive labels and formats for each data variable         \t|\n",
    "| [recs2009_public_repweights.csv](https://www.eia.gov/consumption/residential/data/2009/csv/recs2009_public_repweights.csv) \t| (12083, 246) \t| Replicate weights for each of the 12,083 RECS household cases \t|\n",
    "\n",
    "For the timeline of this mini project I focused on using the first 2 tables. However, for model improvement I would look at utilizing data from the weights table to test for improvements in the model.\n",
    "\n"
   ]
  },
  {
   "cell_type": "markdown",
   "metadata": {},
   "source": [
    "### **Inital Data Comments**:\n",
    "[public table](https://www.eia.gov/consumption/residential/data/2009/csv/recs2009_public.csv) \n",
    "![public table](../output/content/data_ex1.jpg)\n",
    "\n",
    "\n",
    "1. As there are 940 columns we need to be more programatic to how we handle data. Taking the time to review each feature would be a large time investment and in a business would be best to work a SME to expedite understanding. This being said, I took a programatic approach in trying to understand the data and what is relavent for our desired model. \n",
    "\n",
    "2. There is dataleak around the target variable which needed investigation\n",
    "\n",
    "3. There are many columns with multicoliniarity \n",
    "\n",
    "4. Data types should be confirmed for modeling (chategorical, continous, ordinal, nominal etc)"
   ]
  },
  {
   "cell_type": "markdown",
   "metadata": {},
   "source": [
    "### **Taget Variable:** 'KWH'\n",
    "\n",
    "Through exploring the data it was found that there are other columns which are subsets of the target variable. \n",
    "\n",
    "<img src=\"../output/content/target_dropvars.png\" width=\"400\">\n",
    "\n",
    "**Assumption**: We would not have access to this data when making the prediction due to it being dependent on the target variable of KWH. Anything following this logic was droped as part of data processing."
   ]
  },
  {
   "cell_type": "markdown",
   "metadata": {},
   "source": [
    "### **-2 Values:** There are a lot of them\n",
    "There was a lof of occurances of -2 in many columns. The below example shows column names and their count of -2 values. Remembering that theire is 12083 rows in this dataset, many columns contain -2 as most of their values. \n",
    "\n",
    "<img src=\"../output/content/neg_list.png\" width=\"200\">\n",
    "\n",
    "\n",
    "<br>\n",
    "\n",
    "\n",
    "Most of these columns are data that is only collected in some obersvations. For example, the \"AGEHHMEMCAT14\" feature indicates if there is a 14th houshold member. Most household memebers do not have 14 people. \n",
    "\n",
    "**Assumption**: when -2 is pressent in large quantities for a feature, it represents a *NULL* value. For the pipeline of this model I removed columns where most of the data was *NULL*"
   ]
  },
  {
   "cell_type": "markdown",
   "metadata": {},
   "source": [
    "### **Low Unique Value Count:**\n",
    "In my search to understand the data I was investigating columns that were potentially Ordinal or Nominal. I discovered that many columns are flags as also seen in the \"-2\" exaple above.  \n",
    "\n",
    "<img src=\"../output/content/neg_example1.png\" width=\"500\">\n"
   ]
  },
  {
   "cell_type": "markdown",
   "metadata": {},
   "source": [
    "## 2. **Pipeline**\n",
    "\n",
    "As it stands in this version of the project:\n",
    "\n",
    "1. Basic cleaning\n",
    "2. Encode categorical\n",
    "3. Drop ID columns\n",
    "4. Drop target variable dependent columns\n",
    "5. Remove columns with multicollinearity\n",
    "6. Remove columns with more than 40% null values.\n",
    "7. Scalling\n",
    "\n",
    "Still experimenting with:\n",
    "\n",
    "- Correcting SKEW\n",
    "- PCA\n",
    "- Outliers\n",
    "- Converting target into BINS for a classification model\n",
    "\n"
   ]
  },
  {
   "cell_type": "markdown",
   "metadata": {},
   "source": [
    "## 3. **Baseline Model:** Linear Regression"
   ]
  },
  {
   "cell_type": "code",
   "execution_count": null,
   "metadata": {},
   "outputs": [],
   "source": []
  },
  {
   "cell_type": "code",
   "execution_count": null,
   "metadata": {},
   "outputs": [],
   "source": []
  },
  {
   "cell_type": "code",
   "execution_count": null,
   "metadata": {},
   "outputs": [],
   "source": []
  },
  {
   "cell_type": "code",
   "execution_count": null,
   "metadata": {},
   "outputs": [],
   "source": []
  },
  {
   "cell_type": "code",
   "execution_count": null,
   "metadata": {},
   "outputs": [],
   "source": []
  },
  {
   "cell_type": "code",
   "execution_count": null,
   "metadata": {},
   "outputs": [],
   "source": []
  },
  {
   "cell_type": "markdown",
   "metadata": {},
   "source": [
    "# Housekeeping (Imports / Functions)"
   ]
  },
  {
   "cell_type": "code",
   "execution_count": 1,
   "metadata": {},
   "outputs": [],
   "source": [
    "import numpy as np \n",
    "import pandas as pd\n",
    "import matplotlib.pyplot as plt \n",
    "%matplotlib inline\n",
    "\n",
    "from sklearn.preprocessing import StandardScaler\n",
    "from sklearn.model_selection import train_test_split\n",
    "from sklearn.linear_model import LinearRegression\n"
   ]
  },
  {
   "cell_type": "markdown",
   "metadata": {},
   "source": [
    "# 1. The Data"
   ]
  },
  {
   "cell_type": "code",
   "execution_count": 2,
   "metadata": {},
   "outputs": [
    {
     "name": "stderr",
     "output_type": "stream",
     "text": [
      "/Users/josephluiz/miniconda3/envs/THIRD_LOVE/lib/python3.7/site-packages/IPython/core/interactiveshell.py:3524: DtypeWarning: Columns (717,718) have mixed types.Specify dtype option on import or set low_memory=False.\n",
      "  exec(code_obj, self.user_global_ns, self.user_ns)\n"
     ]
    }
   ],
   "source": [
    "dpath = '../data/'\n",
    "df1 = pd.read_csv(dpath + 'recs2009_public.csv')\n",
    "df_lay = pd.read_csv(dpath + \"public_layout.csv\")\n",
    "df_w = pd.read_csv(dpath + \"recs2009_public_repweights.csv\")"
   ]
  },
  {
   "cell_type": "code",
   "execution_count": null,
   "metadata": {},
   "outputs": [],
   "source": []
  },
  {
   "cell_type": "code",
   "execution_count": null,
   "metadata": {},
   "outputs": [],
   "source": []
  }
 ],
 "metadata": {
  "interpreter": {
   "hash": "20f4d640321c64eebda1b336220043a55d007188cbae01fe5d177012ab1e8e44"
  },
  "kernelspec": {
   "display_name": "Python 3.7.12 ('THIRD_LOVE')",
   "language": "python",
   "name": "python3"
  },
  "language_info": {
   "codemirror_mode": {
    "name": "ipython",
    "version": 3
   },
   "file_extension": ".py",
   "mimetype": "text/x-python",
   "name": "python",
   "nbconvert_exporter": "python",
   "pygments_lexer": "ipython3",
   "version": "3.7.12"
  },
  "orig_nbformat": 4
 },
 "nbformat": 4,
 "nbformat_minor": 2
}
