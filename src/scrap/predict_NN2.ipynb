{
 "cells": [
  {
   "cell_type": "code",
   "execution_count": 43,
   "metadata": {},
   "outputs": [],
   "source": [
    "import math\n",
    "import numpy as np\n",
    "import pandas as pd\n",
    "import tensorflow as tf\n",
    "import matplotlib.pyplot as plt\n",
    "from tensorflow.keras import Model\n",
    "from tensorflow.keras import Sequential\n",
    "from tensorflow.keras.optimizers import Adam\n",
    "from sklearn.preprocessing import StandardScaler, MinMaxScaler\n",
    "from tensorflow.keras.layers import Dense, Dropout\n",
    "from sklearn.model_selection import train_test_split\n",
    "from tensorflow.keras.losses import MeanSquaredLogarithmicError\n",
    "\n",
    "from sklearn.metrics import r2_score, mean_squared_log_error, mean_squared_error\n"
   ]
  },
  {
   "cell_type": "code",
   "execution_count": 16,
   "metadata": {},
   "outputs": [],
   "source": [
    "plt.style.use('ggplot')\n",
    "\n",
    "def plot_history(history):\n",
    "    msle = history.history['mean_squared_logarithmic_error']\n",
    "    val_msle = history.history['val_mean_squared_logarithmic_error']\n",
    "    loss = history.history['loss']\n",
    "    val_loss = history.history['val_loss']\n",
    "    x = range(1, len(msle) + 1)\n",
    "\n",
    "    plt.figure(figsize=(12, 5))\n",
    "    plt.subplot(1, 2, 1)\n",
    "    plt.plot(x, msle, 'b', label='Training MSLE')\n",
    "    plt.plot(x, val_msle, 'r', label='Validation MSLE')\n",
    "    plt.title('Training and validation MSLE')\n",
    "    plt.legend()\n",
    "    plt.subplot(1, 2, 2)\n",
    "    plt.plot(x, loss, 'b', label='Training loss')\n",
    "    plt.plot(x, val_loss, 'r', label='Validation loss')\n",
    "    plt.title('Training and validation loss')\n",
    "    plt.legend()\n"
   ]
  },
  {
   "cell_type": "code",
   "execution_count": 2,
   "metadata": {},
   "outputs": [],
   "source": [
    "dpath = '../data/'\n",
    "df = pd.read_csv(dpath + 'pipeline_output.csv')\n",
    "target_name = \"KWH\"\n",
    "\n",
    "train_data, test_data = train_test_split(df, test_size=0.3)\n",
    "X_train, y_train = train_data.drop(target_name, axis=1), train_data[target_name]\n",
    "X_test, y_test = test_data.drop(target_name, axis=1), test_data[target_name]"
   ]
  },
  {
   "cell_type": "code",
   "execution_count": 3,
   "metadata": {},
   "outputs": [],
   "source": [
    "def scale_datasets(X_train, X_test):\n",
    "    \"\"\"\n",
    "    Standard Scale test and train data\n",
    "    Z - Score normalization\n",
    "    \"\"\"\n",
    "    sc = StandardScaler()\n",
    "\n",
    "    X_train_scaled = pd.DataFrame(sc.fit_transform(X_train),\n",
    "                                columns = X_train.columns)\n",
    "\n",
    "    X_test_scaled = pd.DataFrame(sc.transform(X_test),\n",
    "                                columns = X_test.columns)\n",
    "                                \n",
    "    return X_train_scaled, X_test_scaled\n",
    "\n",
    "X_train_scaled, X_test_scaled = scale_datasets(X_train, X_test)"
   ]
  },
  {
   "cell_type": "code",
   "execution_count": 4,
   "metadata": {},
   "outputs": [],
   "source": [
    "dfy_train = pd.DataFrame(y_train)\n",
    "dfy_test = pd.DataFrame(y_test)\n",
    "\n",
    "target_scaler = MinMaxScaler()\n",
    "target_scaler.fit(dfy_train)\n",
    "\n",
    "y_train_scaled = target_scaler.transform(dfy_train)\n",
    "y_test_scaled = target_scaler.transform(dfy_test)\n",
    "# it worked \n"
   ]
  },
  {
   "cell_type": "code",
   "execution_count": 5,
   "metadata": {},
   "outputs": [
    {
     "name": "stdout",
     "output_type": "stream",
     "text": [
      "(3625, 485)\n",
      "(3625,)\n",
      "(3625, 1)\n",
      "(8458, 485)\n",
      "(8458,)\n",
      "(8458, 1)\n"
     ]
    }
   ],
   "source": [
    "print(X_test_scaled.shape)\n",
    "print(y_test.shape)\n",
    "print(y_test_scaled.shape)\n",
    "\n",
    "print(X_train_scaled.shape)\n",
    "print(y_train.shape)\n",
    "print(y_train_scaled.shape)"
   ]
  },
  {
   "cell_type": "code",
   "execution_count": 8,
   "metadata": {},
   "outputs": [],
   "source": [
    "hidden_units1 = 160\n",
    "hidden_units2 = 480\n",
    "hidden_units3 = 256\n",
    "#learning_rate = 0.01\n",
    "learning_rate = 0.001\n",
    "\n",
    "\n",
    "# Creating model using the Sequential in tensorflow\n",
    "def build_model_using_sequential():\n",
    "  model = Sequential([\n",
    "    Dense(hidden_units1, kernel_initializer='normal', activation='relu'),\n",
    "    Dropout(0.2),\n",
    "    Dense(hidden_units2, kernel_initializer='normal', activation='relu'),\n",
    "    Dropout(0.2),\n",
    "    Dense(hidden_units3, kernel_initializer='normal', activation='relu'),\n",
    "    Dense(1, kernel_initializer='normal', activation='linear')\n",
    "  ])\n",
    "  return model\n",
    "  \n",
    "# build the model\n",
    "model = build_model_using_sequential()\n",
    "\n",
    "# loss function\n",
    "msle = MeanSquaredLogarithmicError()\n",
    "model.compile(\n",
    "    loss=msle, \n",
    "    optimizer=Adam(learning_rate=learning_rate), \n",
    "    metrics=[msle])"
   ]
  },
  {
   "cell_type": "code",
   "execution_count": 11,
   "metadata": {},
   "outputs": [
    {
     "name": "stdout",
     "output_type": "stream",
     "text": [
      "Model: \"sequential_1\"\n",
      "_________________________________________________________________\n",
      "Layer (type)                 Output Shape              Param #   \n",
      "=================================================================\n",
      "dense_4 (Dense)              (None, 160)               77760     \n",
      "_________________________________________________________________\n",
      "dropout_2 (Dropout)          (None, 160)               0         \n",
      "_________________________________________________________________\n",
      "dense_5 (Dense)              (None, 480)               77280     \n",
      "_________________________________________________________________\n",
      "dropout_3 (Dropout)          (None, 480)               0         \n",
      "_________________________________________________________________\n",
      "dense_6 (Dense)              (None, 256)               123136    \n",
      "_________________________________________________________________\n",
      "dense_7 (Dense)              (None, 1)                 257       \n",
      "=================================================================\n",
      "Total params: 278,433\n",
      "Trainable params: 278,433\n",
      "Non-trainable params: 0\n",
      "_________________________________________________________________\n"
     ]
    }
   ],
   "source": [
    "model.summary()"
   ]
  },
  {
   "cell_type": "code",
   "execution_count": 10,
   "metadata": {},
   "outputs": [
    {
     "name": "stderr",
     "output_type": "stream",
     "text": [
      "2022-08-03 11:00:08.232572: I tensorflow/compiler/mlir/mlir_graph_optimization_pass.cc:176] None of the MLIR Optimization Passes are enabled (registered 2)\n"
     ]
    },
    {
     "name": "stdout",
     "output_type": "stream",
     "text": [
      "Epoch 1/30\n",
      "133/133 [==============================] - 1s 5ms/step - loss: 13.6613 - mean_squared_logarithmic_error: 13.5880 - val_loss: 2.0148 - val_mean_squared_logarithmic_error: 2.0202\n",
      "Epoch 2/30\n",
      "133/133 [==============================] - 1s 4ms/step - loss: 0.9222 - mean_squared_logarithmic_error: 0.9182 - val_loss: 0.5073 - val_mean_squared_logarithmic_error: 0.5102\n",
      "Epoch 3/30\n",
      "133/133 [==============================] - 1s 4ms/step - loss: 0.3279 - mean_squared_logarithmic_error: 0.3270 - val_loss: 0.3106 - val_mean_squared_logarithmic_error: 0.3125\n",
      "Epoch 4/30\n",
      "133/133 [==============================] - 0s 4ms/step - loss: 0.2284 - mean_squared_logarithmic_error: 0.2287 - val_loss: 0.2491 - val_mean_squared_logarithmic_error: 0.2506\n",
      "Epoch 5/30\n",
      "133/133 [==============================] - 0s 4ms/step - loss: 0.1863 - mean_squared_logarithmic_error: 0.1853 - val_loss: 0.2133 - val_mean_squared_logarithmic_error: 0.2145\n",
      "Epoch 6/30\n",
      "133/133 [==============================] - 1s 4ms/step - loss: 0.1583 - mean_squared_logarithmic_error: 0.1578 - val_loss: 0.1881 - val_mean_squared_logarithmic_error: 0.1892\n",
      "Epoch 7/30\n",
      "133/133 [==============================] - 1s 4ms/step - loss: 0.1374 - mean_squared_logarithmic_error: 0.1370 - val_loss: 0.1682 - val_mean_squared_logarithmic_error: 0.1693\n",
      "Epoch 8/30\n",
      "133/133 [==============================] - 1s 4ms/step - loss: 0.1210 - mean_squared_logarithmic_error: 0.1204 - val_loss: 0.1533 - val_mean_squared_logarithmic_error: 0.1544\n",
      "Epoch 9/30\n",
      "133/133 [==============================] - 1s 4ms/step - loss: 0.1058 - mean_squared_logarithmic_error: 0.1054 - val_loss: 0.1400 - val_mean_squared_logarithmic_error: 0.1411\n",
      "Epoch 10/30\n",
      "133/133 [==============================] - 1s 4ms/step - loss: 0.0950 - mean_squared_logarithmic_error: 0.0949 - val_loss: 0.1294 - val_mean_squared_logarithmic_error: 0.1305\n",
      "Epoch 11/30\n",
      "133/133 [==============================] - 1s 4ms/step - loss: 0.0864 - mean_squared_logarithmic_error: 0.0865 - val_loss: 0.1217 - val_mean_squared_logarithmic_error: 0.1228\n",
      "Epoch 12/30\n",
      "133/133 [==============================] - 1s 5ms/step - loss: 0.0776 - mean_squared_logarithmic_error: 0.0774 - val_loss: 0.1146 - val_mean_squared_logarithmic_error: 0.1157\n",
      "Epoch 13/30\n",
      "133/133 [==============================] - 1s 5ms/step - loss: 0.0705 - mean_squared_logarithmic_error: 0.0704 - val_loss: 0.1077 - val_mean_squared_logarithmic_error: 0.1087\n",
      "Epoch 14/30\n",
      "133/133 [==============================] - 1s 5ms/step - loss: 0.0636 - mean_squared_logarithmic_error: 0.0632 - val_loss: 0.1012 - val_mean_squared_logarithmic_error: 0.1021\n",
      "Epoch 15/30\n",
      "133/133 [==============================] - 1s 4ms/step - loss: 0.0590 - mean_squared_logarithmic_error: 0.0590 - val_loss: 0.0964 - val_mean_squared_logarithmic_error: 0.0973\n",
      "Epoch 16/30\n",
      "133/133 [==============================] - 1s 5ms/step - loss: 0.0562 - mean_squared_logarithmic_error: 0.0563 - val_loss: 0.0933 - val_mean_squared_logarithmic_error: 0.0942\n",
      "Epoch 17/30\n",
      "133/133 [==============================] - 1s 5ms/step - loss: 0.0496 - mean_squared_logarithmic_error: 0.0494 - val_loss: 0.0896 - val_mean_squared_logarithmic_error: 0.0904\n",
      "Epoch 18/30\n",
      "133/133 [==============================] - 1s 5ms/step - loss: 0.0457 - mean_squared_logarithmic_error: 0.0457 - val_loss: 0.0870 - val_mean_squared_logarithmic_error: 0.0878\n",
      "Epoch 19/30\n",
      "133/133 [==============================] - 1s 5ms/step - loss: 0.0432 - mean_squared_logarithmic_error: 0.0432 - val_loss: 0.0856 - val_mean_squared_logarithmic_error: 0.0864\n",
      "Epoch 20/30\n",
      "133/133 [==============================] - 1s 5ms/step - loss: 0.0411 - mean_squared_logarithmic_error: 0.0411 - val_loss: 0.0851 - val_mean_squared_logarithmic_error: 0.0859\n",
      "Epoch 21/30\n",
      "133/133 [==============================] - 1s 9ms/step - loss: 0.0394 - mean_squared_logarithmic_error: 0.0393 - val_loss: 0.0839 - val_mean_squared_logarithmic_error: 0.0848\n",
      "Epoch 22/30\n",
      "133/133 [==============================] - 1s 10ms/step - loss: 0.0389 - mean_squared_logarithmic_error: 0.0388 - val_loss: 0.0820 - val_mean_squared_logarithmic_error: 0.0828\n",
      "Epoch 23/30\n",
      "133/133 [==============================] - 1s 6ms/step - loss: 0.0349 - mean_squared_logarithmic_error: 0.0350 - val_loss: 0.0813 - val_mean_squared_logarithmic_error: 0.0821\n",
      "Epoch 24/30\n",
      "133/133 [==============================] - 1s 6ms/step - loss: 0.0348 - mean_squared_logarithmic_error: 0.0347 - val_loss: 0.0786 - val_mean_squared_logarithmic_error: 0.0793\n",
      "Epoch 25/30\n",
      "133/133 [==============================] - 1s 7ms/step - loss: 0.0347 - mean_squared_logarithmic_error: 0.0346 - val_loss: 0.0784 - val_mean_squared_logarithmic_error: 0.0790\n",
      "Epoch 26/30\n",
      "133/133 [==============================] - 1s 8ms/step - loss: 0.0341 - mean_squared_logarithmic_error: 0.0343 - val_loss: 0.0790 - val_mean_squared_logarithmic_error: 0.0797\n",
      "Epoch 27/30\n",
      "133/133 [==============================] - 1s 7ms/step - loss: 0.0334 - mean_squared_logarithmic_error: 0.0336 - val_loss: 0.0791 - val_mean_squared_logarithmic_error: 0.0797\n",
      "Epoch 28/30\n",
      "133/133 [==============================] - 1s 8ms/step - loss: 0.0326 - mean_squared_logarithmic_error: 0.0325 - val_loss: 0.0801 - val_mean_squared_logarithmic_error: 0.0807\n",
      "Epoch 29/30\n",
      "133/133 [==============================] - 1s 8ms/step - loss: 0.0312 - mean_squared_logarithmic_error: 0.0311 - val_loss: 0.0785 - val_mean_squared_logarithmic_error: 0.0790\n",
      "Epoch 30/30\n",
      "133/133 [==============================] - 1s 8ms/step - loss: 0.0299 - mean_squared_logarithmic_error: 0.0301 - val_loss: 0.0771 - val_mean_squared_logarithmic_error: 0.0776\n"
     ]
    }
   ],
   "source": [
    "callback = tf.keras.callbacks.EarlyStopping(monitor='loss', patience=5)\n",
    "\n",
    "history = model.fit(X_train_scaled, y_train, # am using the scaled versions\n",
    "                    epochs=30,\n",
    "                    verbose=1,\n",
    "                    validation_data=(X_test_scaled, y_test),\n",
    "                    batch_size=64,\n",
    "                    callbacks=[callback]\n",
    "                    )\n",
    "\n"
   ]
  },
  {
   "cell_type": "code",
   "execution_count": 32,
   "metadata": {},
   "outputs": [
    {
     "data": {
      "image/png": "[encoded data removed]",
      "text/plain": [
       "<Figure size 864x360 with 2 Axes>"
      ]
     },
     "metadata": {},
     "output_type": "display_data"
    }
   ],
   "source": [
    "plt.style.use('ggplot')\n",
    "\n",
    "def plot_history(history):\n",
    "    msle = history.history['mean_squared_logarithmic_error']\n",
    "    val_msle = history.history['val_mean_squared_logarithmic_error']\n",
    "    loss = history.history['loss']\n",
    "    val_loss = history.history['val_loss']\n",
    "    x = range(1, len(msle) + 1)\n",
    "\n",
    "    plt.figure(figsize=(12, 5))\n",
    "    plt.subplot(1, 2, 1)\n",
    "    plt.plot(x, msle, 'b', label='Training MSLE')\n",
    "    plt.plot(x, val_msle, 'r', label='Validation MSLE')\n",
    "    plt.title('Training and validation MSLE')\n",
    "    plt.legend()\n",
    "    plt.subplot(1, 2, 2)\n",
    "    plt.plot(x, loss, 'b', label='Training loss')\n",
    "    plt.plot(x, val_loss, 'r', label='Validation loss')\n",
    "    plt.title('Training and validation loss')\n",
    "    plt.legend()\n",
    "\n",
    "plot_history(history)"
   ]
  },
  {
   "cell_type": "code",
   "execution_count": 33,
   "metadata": {},
   "outputs": [
    {
     "name": "stdout",
     "output_type": "stream",
     "text": [
      "<class 'pandas.core.series.Series'>\n",
      "<class 'numpy.ndarray'>\n",
      "R2 Score is: 0.8796600065632126\n"
     ]
    },
    {
     "data": {
      "text/html": [
       "<div>\n",
       "<style scoped>\n",
       "    .dataframe tbody tr th:only-of-type {\n",
       "        vertical-align: middle;\n",
       "    }\n",
       "\n",
       "    .dataframe tbody tr th {\n",
       "        vertical-align: top;\n",
       "    }\n",
       "\n",
       "    .dataframe thead th {\n",
       "        text-align: right;\n",
       "    }\n",
       "</style>\n",
       "<table border=\"1\" class=\"dataframe\">\n",
       "  <thead>\n",
       "    <tr style=\"text-align: right;\">\n",
       "      <th></th>\n",
       "      <th>KWH</th>\n",
       "      <th>prediction</th>\n",
       "    </tr>\n",
       "  </thead>\n",
       "  <tbody>\n",
       "    <tr>\n",
       "      <th>3101</th>\n",
       "      <td>3885</td>\n",
       "      <td>4372.098145</td>\n",
       "    </tr>\n",
       "    <tr>\n",
       "      <th>10252</th>\n",
       "      <td>3994</td>\n",
       "      <td>5143.009277</td>\n",
       "    </tr>\n",
       "    <tr>\n",
       "      <th>4865</th>\n",
       "      <td>11123</td>\n",
       "      <td>12753.587891</td>\n",
       "    </tr>\n",
       "    <tr>\n",
       "      <th>8978</th>\n",
       "      <td>11588</td>\n",
       "      <td>12981.796875</td>\n",
       "    </tr>\n",
       "    <tr>\n",
       "      <th>7365</th>\n",
       "      <td>4202</td>\n",
       "      <td>8144.296387</td>\n",
       "    </tr>\n",
       "    <tr>\n",
       "      <th>...</th>\n",
       "      <td>...</td>\n",
       "      <td>...</td>\n",
       "    </tr>\n",
       "    <tr>\n",
       "      <th>8077</th>\n",
       "      <td>10379</td>\n",
       "      <td>11617.164062</td>\n",
       "    </tr>\n",
       "    <tr>\n",
       "      <th>3969</th>\n",
       "      <td>4581</td>\n",
       "      <td>4783.013672</td>\n",
       "    </tr>\n",
       "    <tr>\n",
       "      <th>3399</th>\n",
       "      <td>13485</td>\n",
       "      <td>15075.853516</td>\n",
       "    </tr>\n",
       "    <tr>\n",
       "      <th>1823</th>\n",
       "      <td>20692</td>\n",
       "      <td>20701.935547</td>\n",
       "    </tr>\n",
       "    <tr>\n",
       "      <th>5079</th>\n",
       "      <td>3524</td>\n",
       "      <td>3110.889160</td>\n",
       "    </tr>\n",
       "  </tbody>\n",
       "</table>\n",
       "<p>3625 rows × 2 columns</p>\n",
       "</div>"
      ],
      "text/plain": [
       "         KWH    prediction\n",
       "3101    3885   4372.098145\n",
       "10252   3994   5143.009277\n",
       "4865   11123  12753.587891\n",
       "8978   11588  12981.796875\n",
       "7365    4202   8144.296387\n",
       "...      ...           ...\n",
       "8077   10379  11617.164062\n",
       "3969    4581   4783.013672\n",
       "3399   13485  15075.853516\n",
       "1823   20692  20701.935547\n",
       "5079    3524   3110.889160\n",
       "\n",
       "[3625 rows x 2 columns]"
      ]
     },
     "execution_count": 33,
     "metadata": {},
     "output_type": "execute_result"
    }
   ],
   "source": [
    "#prediect no scaling\n",
    "prediction = model.predict(X_test_scaled)\n",
    "print(type(y_test))\n",
    "print(type(prediction))\n",
    "\n",
    "pred_frame = pd.DataFrame(y_test.copy())\n",
    "pred_frame['prediction'] = prediction\n",
    "\n",
    "print(\"R2 Score is:\", r2_score(y_test, prediction))\n",
    "pred_frame"
   ]
  },
  {
   "cell_type": "markdown",
   "metadata": {},
   "source": [
    "# Param Play"
   ]
  },
  {
   "cell_type": "code",
   "execution_count": 60,
   "metadata": {},
   "outputs": [],
   "source": [
    "hidden_units1 = 160\n",
    "hidden_units1_1 = 320\n",
    "hidden_units2 = 480\n",
    "hidden_units2_2 = 960\n",
    "#hidden_units2 = 520\n",
    "#hidden_units2 = 960\n",
    "hidden_units3 = 256\n",
    "#learning_rate = 0.01\n",
    "learning_rate = 0.001\n",
    "\n",
    "\n",
    "# Creating model using the Sequential in tensorflow\n",
    "def build_model_using_sequential():\n",
    "  model = Sequential([\n",
    "    Dense(hidden_units1, kernel_initializer='normal', activation='relu'),\n",
    "    Dropout(0.2),\n",
    "    Dense(hidden_units1_1, kernel_initializer='normal', activation='relu'),\n",
    "    Dropout(0.2),    \n",
    "    Dense(hidden_units2, kernel_initializer='normal', activation='relu'),\n",
    "    Dropout(0.2),\n",
    "    Dense(hidden_units2_2, kernel_initializer='normal', activation='relu'),\n",
    "    Dropout(0.2),\n",
    "    Dense(hidden_units3, kernel_initializer='normal', activation='relu'),\n",
    "    Dense(1, kernel_initializer='normal', activation='linear')\n",
    "  ])\n",
    "  return model\n",
    "  \n",
    "# build the model\n",
    "model = build_model_using_sequential()\n",
    "\n",
    "# loss function\n",
    "msle = MeanSquaredLogarithmicError()\n",
    "model.compile(\n",
    "    loss=msle, \n",
    "    optimizer=Adam(learning_rate=learning_rate), \n",
    "    metrics=[msle])\n",
    "  \n",
    "#model.summary()"
   ]
  },
  {
   "cell_type": "code",
   "execution_count": 61,
   "metadata": {},
   "outputs": [
    {
     "name": "stdout",
     "output_type": "stream",
     "text": [
      "Epoch 1/60\n",
      "133/133 [==============================] - 4s 22ms/step - loss: 4.3622 - mean_squared_logarithmic_error: 4.3359 - val_loss: 0.1819 - val_mean_squared_logarithmic_error: 0.1821\n",
      "Epoch 2/60\n",
      "133/133 [==============================] - 2s 18ms/step - loss: 0.1491 - mean_squared_logarithmic_error: 0.1495 - val_loss: 0.1333 - val_mean_squared_logarithmic_error: 0.1336\n",
      "Epoch 3/60\n",
      "133/133 [==============================] - 2s 16ms/step - loss: 0.1069 - mean_squared_logarithmic_error: 0.1066 - val_loss: 0.1112 - val_mean_squared_logarithmic_error: 0.1115\n",
      "Epoch 4/60\n",
      "133/133 [==============================] - 2s 15ms/step - loss: 0.0816 - mean_squared_logarithmic_error: 0.0818 - val_loss: 0.0972 - val_mean_squared_logarithmic_error: 0.0975\n",
      "Epoch 5/60\n",
      "133/133 [==============================] - 2s 18ms/step - loss: 0.0665 - mean_squared_logarithmic_error: 0.0663 - val_loss: 0.0879 - val_mean_squared_logarithmic_error: 0.0882\n",
      "Epoch 6/60\n",
      "133/133 [==============================] - 2s 15ms/step - loss: 0.0555 - mean_squared_logarithmic_error: 0.0554 - val_loss: 0.0814 - val_mean_squared_logarithmic_error: 0.0816\n",
      "Epoch 7/60\n",
      "133/133 [==============================] - 2s 18ms/step - loss: 0.0488 - mean_squared_logarithmic_error: 0.0486 - val_loss: 0.0784 - val_mean_squared_logarithmic_error: 0.0787\n",
      "Epoch 8/60\n",
      "133/133 [==============================] - 2s 16ms/step - loss: 0.0441 - mean_squared_logarithmic_error: 0.0441 - val_loss: 0.0763 - val_mean_squared_logarithmic_error: 0.0766\n",
      "Epoch 9/60\n",
      "133/133 [==============================] - 2s 14ms/step - loss: 0.0398 - mean_squared_logarithmic_error: 0.0396 - val_loss: 0.0747 - val_mean_squared_logarithmic_error: 0.0750\n",
      "Epoch 10/60\n",
      "133/133 [==============================] - 2s 15ms/step - loss: 0.0375 - mean_squared_logarithmic_error: 0.0373 - val_loss: 0.0741 - val_mean_squared_logarithmic_error: 0.0744\n",
      "Epoch 11/60\n",
      "133/133 [==============================] - 2s 12ms/step - loss: 0.0358 - mean_squared_logarithmic_error: 0.0358 - val_loss: 0.0748 - val_mean_squared_logarithmic_error: 0.0751\n",
      "Epoch 12/60\n",
      "133/133 [==============================] - 2s 12ms/step - loss: 0.0337 - mean_squared_logarithmic_error: 0.0336 - val_loss: 0.0721 - val_mean_squared_logarithmic_error: 0.0724\n",
      "Epoch 13/60\n",
      "133/133 [==============================] - 1s 11ms/step - loss: 0.0341 - mean_squared_logarithmic_error: 0.0340 - val_loss: 0.0717 - val_mean_squared_logarithmic_error: 0.0720\n",
      "Epoch 14/60\n",
      "133/133 [==============================] - 2s 14ms/step - loss: 0.0339 - mean_squared_logarithmic_error: 0.0338 - val_loss: 0.0719 - val_mean_squared_logarithmic_error: 0.0722\n",
      "Epoch 15/60\n",
      "133/133 [==============================] - 2s 13ms/step - loss: 0.0333 - mean_squared_logarithmic_error: 0.0335 - val_loss: 0.0701 - val_mean_squared_logarithmic_error: 0.0703\n",
      "Epoch 16/60\n",
      "133/133 [==============================] - 2s 12ms/step - loss: 0.0318 - mean_squared_logarithmic_error: 0.0318 - val_loss: 0.0689 - val_mean_squared_logarithmic_error: 0.0691\n",
      "Epoch 17/60\n",
      "133/133 [==============================] - 2s 13ms/step - loss: 0.0301 - mean_squared_logarithmic_error: 0.0302 - val_loss: 0.0695 - val_mean_squared_logarithmic_error: 0.0698\n",
      "Epoch 18/60\n",
      "133/133 [==============================] - 1s 11ms/step - loss: 0.0308 - mean_squared_logarithmic_error: 0.0307 - val_loss: 0.0697 - val_mean_squared_logarithmic_error: 0.0699\n",
      "Epoch 19/60\n",
      "133/133 [==============================] - 2s 12ms/step - loss: 0.0301 - mean_squared_logarithmic_error: 0.0302 - val_loss: 0.0692 - val_mean_squared_logarithmic_error: 0.0694\n",
      "Epoch 20/60\n",
      "133/133 [==============================] - 2s 13ms/step - loss: 0.0295 - mean_squared_logarithmic_error: 0.0296 - val_loss: 0.0703 - val_mean_squared_logarithmic_error: 0.0705\n",
      "Epoch 21/60\n",
      "133/133 [==============================] - 2s 12ms/step - loss: 0.0306 - mean_squared_logarithmic_error: 0.0306 - val_loss: 0.0703 - val_mean_squared_logarithmic_error: 0.0704\n",
      "Epoch 22/60\n",
      "133/133 [==============================] - 2s 13ms/step - loss: 0.0306 - mean_squared_logarithmic_error: 0.0305 - val_loss: 0.0702 - val_mean_squared_logarithmic_error: 0.0703\n",
      "Epoch 23/60\n",
      "133/133 [==============================] - 2s 12ms/step - loss: 0.0290 - mean_squared_logarithmic_error: 0.0290 - val_loss: 0.0696 - val_mean_squared_logarithmic_error: 0.0698\n",
      "Epoch 24/60\n",
      "133/133 [==============================] - 2s 12ms/step - loss: 0.0275 - mean_squared_logarithmic_error: 0.0275 - val_loss: 0.0696 - val_mean_squared_logarithmic_error: 0.0698\n",
      "Epoch 25/60\n",
      "133/133 [==============================] - 2s 12ms/step - loss: 0.0264 - mean_squared_logarithmic_error: 0.0263 - val_loss: 0.0702 - val_mean_squared_logarithmic_error: 0.0704\n",
      "Epoch 26/60\n",
      "133/133 [==============================] - 2s 14ms/step - loss: 0.0265 - mean_squared_logarithmic_error: 0.0264 - val_loss: 0.0693 - val_mean_squared_logarithmic_error: 0.0694\n",
      "Epoch 27/60\n",
      "133/133 [==============================] - 2s 12ms/step - loss: 0.0261 - mean_squared_logarithmic_error: 0.0260 - val_loss: 0.0700 - val_mean_squared_logarithmic_error: 0.0703\n",
      "Epoch 28/60\n",
      "133/133 [==============================] - 2s 12ms/step - loss: 0.0267 - mean_squared_logarithmic_error: 0.0266 - val_loss: 0.0694 - val_mean_squared_logarithmic_error: 0.0697\n",
      "Epoch 29/60\n",
      "133/133 [==============================] - 2s 14ms/step - loss: 0.0275 - mean_squared_logarithmic_error: 0.0275 - val_loss: 0.0712 - val_mean_squared_logarithmic_error: 0.0714\n",
      "Epoch 30/60\n",
      "133/133 [==============================] - 2s 16ms/step - loss: 0.0294 - mean_squared_logarithmic_error: 0.0294 - val_loss: 0.0706 - val_mean_squared_logarithmic_error: 0.0707\n",
      "Epoch 31/60\n",
      "133/133 [==============================] - 2s 15ms/step - loss: 0.0287 - mean_squared_logarithmic_error: 0.0286 - val_loss: 0.0713 - val_mean_squared_logarithmic_error: 0.0715\n",
      "Epoch 32/60\n",
      "133/133 [==============================] - 2s 15ms/step - loss: 0.0262 - mean_squared_logarithmic_error: 0.0261 - val_loss: 0.0696 - val_mean_squared_logarithmic_error: 0.0699\n"
     ]
    }
   ],
   "source": [
    "callback = tf.keras.callbacks.EarlyStopping(monitor='loss', patience=5)\n",
    "\n",
    "history = model.fit(X_train_scaled, y_train, # am using the scaled versions\n",
    "                    epochs=60,\n",
    "                    verbose=1,\n",
    "                    validation_data=(X_test_scaled, y_test),\n",
    "                    batch_size=64,\n",
    "                    callbacks=[callback]\n",
    "                    )"
   ]
  },
  {
   "cell_type": "code",
   "execution_count": 62,
   "metadata": {},
   "outputs": [
    {
     "name": "stdout",
     "output_type": "stream",
     "text": [
      "Model: \"sequential_11\"\n",
      "_________________________________________________________________\n",
      "Layer (type)                 Output Shape              Param #   \n",
      "=================================================================\n",
      "dense_45 (Dense)             (None, 160)               77760     \n",
      "_________________________________________________________________\n",
      "dropout_23 (Dropout)         (None, 160)               0         \n",
      "_________________________________________________________________\n",
      "dense_46 (Dense)             (None, 320)               51520     \n",
      "_________________________________________________________________\n",
      "dropout_24 (Dropout)         (None, 320)               0         \n",
      "_________________________________________________________________\n",
      "dense_47 (Dense)             (None, 480)               154080    \n",
      "_________________________________________________________________\n",
      "dropout_25 (Dropout)         (None, 480)               0         \n",
      "_________________________________________________________________\n",
      "dense_48 (Dense)             (None, 960)               461760    \n",
      "_________________________________________________________________\n",
      "dropout_26 (Dropout)         (None, 960)               0         \n",
      "_________________________________________________________________\n",
      "dense_49 (Dense)             (None, 256)               246016    \n",
      "_________________________________________________________________\n",
      "dense_50 (Dense)             (None, 1)                 257       \n",
      "=================================================================\n",
      "Total params: 991,393\n",
      "Trainable params: 991,393\n",
      "Non-trainable params: 0\n",
      "_________________________________________________________________\n"
     ]
    }
   ],
   "source": [
    "model.summary()"
   ]
  },
  {
   "cell_type": "code",
   "execution_count": 63,
   "metadata": {},
   "outputs": [
    {
     "data": {
      "image/png": "[encoded data removed]",
      "text/plain": [
       "<Figure size 864x360 with 2 Axes>"
      ]
     },
     "metadata": {},
     "output_type": "display_data"
    }
   ],
   "source": [
    "plot_history(history)"
   ]
  },
  {
   "cell_type": "code",
   "execution_count": 64,
   "metadata": {},
   "outputs": [
    {
     "name": "stdout",
     "output_type": "stream",
     "text": [
      "R2 is:   0.88093\n",
      "MSLE is: 0.06961\n",
      "RMSE is: 2652.19226\n"
     ]
    },
    {
     "data": {
      "text/html": [
       "<div>\n",
       "<style scoped>\n",
       "    .dataframe tbody tr th:only-of-type {\n",
       "        vertical-align: middle;\n",
       "    }\n",
       "\n",
       "    .dataframe tbody tr th {\n",
       "        vertical-align: top;\n",
       "    }\n",
       "\n",
       "    .dataframe thead th {\n",
       "        text-align: right;\n",
       "    }\n",
       "</style>\n",
       "<table border=\"1\" class=\"dataframe\">\n",
       "  <thead>\n",
       "    <tr style=\"text-align: right;\">\n",
       "      <th></th>\n",
       "      <th>KWH</th>\n",
       "      <th>prediction</th>\n",
       "    </tr>\n",
       "  </thead>\n",
       "  <tbody>\n",
       "    <tr>\n",
       "      <th>8764</th>\n",
       "      <td>17890</td>\n",
       "      <td>21387.246094</td>\n",
       "    </tr>\n",
       "    <tr>\n",
       "      <th>2214</th>\n",
       "      <td>9309</td>\n",
       "      <td>7957.127441</td>\n",
       "    </tr>\n",
       "    <tr>\n",
       "      <th>10995</th>\n",
       "      <td>7479</td>\n",
       "      <td>7515.579102</td>\n",
       "    </tr>\n",
       "    <tr>\n",
       "      <th>8992</th>\n",
       "      <td>21440</td>\n",
       "      <td>21539.445312</td>\n",
       "    </tr>\n",
       "    <tr>\n",
       "      <th>11822</th>\n",
       "      <td>4415</td>\n",
       "      <td>5336.866699</td>\n",
       "    </tr>\n",
       "  </tbody>\n",
       "</table>\n",
       "</div>"
      ],
      "text/plain": [
       "         KWH    prediction\n",
       "8764   17890  21387.246094\n",
       "2214    9309   7957.127441\n",
       "10995   7479   7515.579102\n",
       "8992   21440  21539.445312\n",
       "11822   4415   5336.866699"
      ]
     },
     "execution_count": 64,
     "metadata": {},
     "output_type": "execute_result"
    }
   ],
   "source": [
    "#prediect no scaling\n",
    "prediction = model.predict(X_test_scaled)\n",
    "\n",
    "pred_frame = pd.DataFrame(y_test.copy())\n",
    "pred_frame['prediction'] = prediction\n",
    "\n",
    "print(\"R2 is:\" + \"  \", \"{:.5f}\".format(r2_score(y_test, prediction)))\n",
    "print(\"MSLE is:\", \"{:.5f}\".format(mean_squared_log_error(y_test, prediction)))\n",
    "print(\"RMSE is:\", \"{:.5f}\".format(mean_squared_error(y_test, prediction, squared=False)))\n",
    "pred_frame.head(5)\n",
    "\n",
    "#\"{:.2f}\".format(float)"
   ]
  },
  {
   "cell_type": "code",
   "execution_count": 67,
   "metadata": {},
   "outputs": [],
   "source": []
  },
  {
   "cell_type": "code",
   "execution_count": 68,
   "metadata": {},
   "outputs": [
    {
     "name": "stdout",
     "output_type": "stream",
     "text": [
      "INFO:tensorflow:Assets written to: ../output/models/NN_model1/assets\n"
     ]
    }
   ],
   "source": [
    "model_path = \"../output/models/\"\n",
    "filename = 'NN_model1'\n",
    "tf.keras.models.save_model(model, model_path + filename)"
   ]
  },
  {
   "cell_type": "code",
   "execution_count": null,
   "metadata": {},
   "outputs": [],
   "source": []
  }
 ],
 "metadata": {
  "interpreter": {
   "hash": "c081362a3a14737b8e7ac760dd501fc03abdc191cfbb54f5d4fb70fb8f51b8b2"
  },
  "kernelspec": {
   "display_name": "Python 3.9.7 ('tensorflow')",
   "language": "python",
   "name": "python3"
  },
  "language_info": {
   "codemirror_mode": {
    "name": "ipython",
    "version": 3
   },
   "file_extension": ".py",
   "mimetype": "text/x-python",
   "name": "python",
   "nbconvert_exporter": "python",
   "pygments_lexer": "ipython3",
   "version": "3.9.7"
  },
  "orig_nbformat": 4
 },
 "nbformat": 4,
 "nbformat_minor": 2
}
